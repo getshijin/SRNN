{
 "cells": [
  {
   "cell_type": "code",
   "execution_count": 1,
   "metadata": {},
   "outputs": [],
   "source": [
    "# Step 1: Import Libraries and Load the Model\n",
    "import numpy as np\n",
    "import tensorflow as tf\n",
    "from tensorflow.keras.datasets import imdb\n",
    "from tensorflow.keras.preprocessing import sequence\n",
    "from tensorflow.keras.models import load_model"
   ]
  },
  {
   "cell_type": "code",
   "execution_count": 2,
   "metadata": {},
   "outputs": [],
   "source": [
    "\n",
    "# Load the IMDB dataset word index\n",
    "word_index = imdb.get_word_index()\n",
    "reverse_word_index = {value: key for key, value in word_index.items()}"
   ]
  },
  {
   "cell_type": "code",
   "execution_count": 3,
   "metadata": {},
   "outputs": [
    {
     "name": "stderr",
     "output_type": "stream",
     "text": [
      "WARNING:absl:Compiled the loaded model, but the compiled metrics have yet to be built. `model.compile_metrics` will be empty until you train or evaluate the model.\n"
     ]
    },
    {
     "data": {
      "text/html": [
       "<pre style=\"white-space:pre;overflow-x:auto;line-height:normal;font-family:Menlo,'DejaVu Sans Mono',consolas,'Courier New',monospace\"><span style=\"font-weight: bold\">Model: \"sequential\"</span>\n",
       "</pre>\n"
      ],
      "text/plain": [
       "\u001b[1mModel: \"sequential\"\u001b[0m\n"
      ]
     },
     "metadata": {},
     "output_type": "display_data"
    },
    {
     "data": {
      "text/html": [
       "<pre style=\"white-space:pre;overflow-x:auto;line-height:normal;font-family:Menlo,'DejaVu Sans Mono',consolas,'Courier New',monospace\">┏━━━━━━━━━━━━━━━━━━━━━━━━━━━━━━━━━┳━━━━━━━━━━━━━━━━━━━━━━━━┳━━━━━━━━━━━━━━━┓\n",
       "┃<span style=\"font-weight: bold\"> Layer (type)                    </span>┃<span style=\"font-weight: bold\"> Output Shape           </span>┃<span style=\"font-weight: bold\">       Param # </span>┃\n",
       "┡━━━━━━━━━━━━━━━━━━━━━━━━━━━━━━━━━╇━━━━━━━━━━━━━━━━━━━━━━━━╇━━━━━━━━━━━━━━━┩\n",
       "│ embedding (<span style=\"color: #0087ff; text-decoration-color: #0087ff\">Embedding</span>)           │ (<span style=\"color: #00af00; text-decoration-color: #00af00\">32</span>, <span style=\"color: #00af00; text-decoration-color: #00af00\">500</span>, <span style=\"color: #00af00; text-decoration-color: #00af00\">128</span>)         │     <span style=\"color: #00af00; text-decoration-color: #00af00\">1,280,000</span> │\n",
       "├─────────────────────────────────┼────────────────────────┼───────────────┤\n",
       "│ simple_rnn (<span style=\"color: #0087ff; text-decoration-color: #0087ff\">SimpleRNN</span>)          │ (<span style=\"color: #00af00; text-decoration-color: #00af00\">32</span>, <span style=\"color: #00af00; text-decoration-color: #00af00\">128</span>)              │        <span style=\"color: #00af00; text-decoration-color: #00af00\">32,896</span> │\n",
       "├─────────────────────────────────┼────────────────────────┼───────────────┤\n",
       "│ dense (<span style=\"color: #0087ff; text-decoration-color: #0087ff\">Dense</span>)                   │ (<span style=\"color: #00af00; text-decoration-color: #00af00\">32</span>, <span style=\"color: #00af00; text-decoration-color: #00af00\">1</span>)                │           <span style=\"color: #00af00; text-decoration-color: #00af00\">129</span> │\n",
       "└─────────────────────────────────┴────────────────────────┴───────────────┘\n",
       "</pre>\n"
      ],
      "text/plain": [
       "┏━━━━━━━━━━━━━━━━━━━━━━━━━━━━━━━━━┳━━━━━━━━━━━━━━━━━━━━━━━━┳━━━━━━━━━━━━━━━┓\n",
       "┃\u001b[1m \u001b[0m\u001b[1mLayer (type)                   \u001b[0m\u001b[1m \u001b[0m┃\u001b[1m \u001b[0m\u001b[1mOutput Shape          \u001b[0m\u001b[1m \u001b[0m┃\u001b[1m \u001b[0m\u001b[1m      Param #\u001b[0m\u001b[1m \u001b[0m┃\n",
       "┡━━━━━━━━━━━━━━━━━━━━━━━━━━━━━━━━━╇━━━━━━━━━━━━━━━━━━━━━━━━╇━━━━━━━━━━━━━━━┩\n",
       "│ embedding (\u001b[38;5;33mEmbedding\u001b[0m)           │ (\u001b[38;5;34m32\u001b[0m, \u001b[38;5;34m500\u001b[0m, \u001b[38;5;34m128\u001b[0m)         │     \u001b[38;5;34m1,280,000\u001b[0m │\n",
       "├─────────────────────────────────┼────────────────────────┼───────────────┤\n",
       "│ simple_rnn (\u001b[38;5;33mSimpleRNN\u001b[0m)          │ (\u001b[38;5;34m32\u001b[0m, \u001b[38;5;34m128\u001b[0m)              │        \u001b[38;5;34m32,896\u001b[0m │\n",
       "├─────────────────────────────────┼────────────────────────┼───────────────┤\n",
       "│ dense (\u001b[38;5;33mDense\u001b[0m)                   │ (\u001b[38;5;34m32\u001b[0m, \u001b[38;5;34m1\u001b[0m)                │           \u001b[38;5;34m129\u001b[0m │\n",
       "└─────────────────────────────────┴────────────────────────┴───────────────┘\n"
      ]
     },
     "metadata": {},
     "output_type": "display_data"
    },
    {
     "data": {
      "text/html": [
       "<pre style=\"white-space:pre;overflow-x:auto;line-height:normal;font-family:Menlo,'DejaVu Sans Mono',consolas,'Courier New',monospace\"><span style=\"font-weight: bold\"> Total params: </span><span style=\"color: #00af00; text-decoration-color: #00af00\">1,313,027</span> (5.01 MB)\n",
       "</pre>\n"
      ],
      "text/plain": [
       "\u001b[1m Total params: \u001b[0m\u001b[38;5;34m1,313,027\u001b[0m (5.01 MB)\n"
      ]
     },
     "metadata": {},
     "output_type": "display_data"
    },
    {
     "data": {
      "text/html": [
       "<pre style=\"white-space:pre;overflow-x:auto;line-height:normal;font-family:Menlo,'DejaVu Sans Mono',consolas,'Courier New',monospace\"><span style=\"font-weight: bold\"> Trainable params: </span><span style=\"color: #00af00; text-decoration-color: #00af00\">1,313,025</span> (5.01 MB)\n",
       "</pre>\n"
      ],
      "text/plain": [
       "\u001b[1m Trainable params: \u001b[0m\u001b[38;5;34m1,313,025\u001b[0m (5.01 MB)\n"
      ]
     },
     "metadata": {},
     "output_type": "display_data"
    },
    {
     "data": {
      "text/html": [
       "<pre style=\"white-space:pre;overflow-x:auto;line-height:normal;font-family:Menlo,'DejaVu Sans Mono',consolas,'Courier New',monospace\"><span style=\"font-weight: bold\"> Non-trainable params: </span><span style=\"color: #00af00; text-decoration-color: #00af00\">0</span> (0.00 B)\n",
       "</pre>\n"
      ],
      "text/plain": [
       "\u001b[1m Non-trainable params: \u001b[0m\u001b[38;5;34m0\u001b[0m (0.00 B)\n"
      ]
     },
     "metadata": {},
     "output_type": "display_data"
    },
    {
     "data": {
      "text/html": [
       "<pre style=\"white-space:pre;overflow-x:auto;line-height:normal;font-family:Menlo,'DejaVu Sans Mono',consolas,'Courier New',monospace\"><span style=\"font-weight: bold\"> Optimizer params: </span><span style=\"color: #00af00; text-decoration-color: #00af00\">2</span> (12.00 B)\n",
       "</pre>\n"
      ],
      "text/plain": [
       "\u001b[1m Optimizer params: \u001b[0m\u001b[38;5;34m2\u001b[0m (12.00 B)\n"
      ]
     },
     "metadata": {},
     "output_type": "display_data"
    }
   ],
   "source": [
    "# Load the pre-trained model with ReLU activation\n",
    "model = load_model('simple_rnn_imdb.h5')\n",
    "model.summary()"
   ]
  },
  {
   "cell_type": "code",
   "execution_count": 4,
   "metadata": {},
   "outputs": [
    {
     "data": {
      "text/plain": [
       "[array([[ 0.33852065,  0.37494877,  0.39157426, ..., -0.54920775,\n",
       "          0.46344328, -0.37959704],\n",
       "        [-0.04552199,  0.04121284,  0.01863666, ..., -0.00235171,\n",
       "          0.07824633, -0.05337537],\n",
       "        [ 0.06521717,  0.095167  ,  0.02156511, ..., -0.09190363,\n",
       "          0.05213069,  0.02382313],\n",
       "        ...,\n",
       "        [ 0.04505918,  0.0461578 , -0.04696091, ...,  0.02042528,\n",
       "         -0.0145214 ,  0.1312239 ],\n",
       "        [ 0.20185661,  0.16072802, -0.05385001, ...,  0.2535946 ,\n",
       "         -0.24198672,  0.05699831],\n",
       "        [-0.21838334, -0.15638879,  0.02750311, ...,  0.15551716,\n",
       "          0.14159368, -0.12370431]], dtype=float32),\n",
       " array([[-0.17871764,  0.00040084,  0.07492106, ..., -0.16152056,\n",
       "         -0.02307893,  0.03359524],\n",
       "        [-0.03401079,  0.15301378,  0.09414842, ..., -0.07701839,\n",
       "         -0.09181873, -0.141483  ],\n",
       "        [ 0.00192882, -0.09727417, -0.18324305, ...,  0.09033826,\n",
       "         -0.10116663, -0.01101574],\n",
       "        ...,\n",
       "        [-0.03854569, -0.03323396,  0.13280259, ...,  0.17654546,\n",
       "          0.18801999, -0.0416086 ],\n",
       "        [-0.10253347,  0.11595716,  0.02507573, ..., -0.07821666,\n",
       "          0.11632624,  0.02353576],\n",
       "        [ 0.06348368,  0.12463932, -0.09141857, ..., -0.10295235,\n",
       "          0.13092439,  0.1412331 ]], dtype=float32),\n",
       " array([[ 0.07172157,  0.01345636, -0.10200159, ...,  0.08226788,\n",
       "         -0.0110518 ,  0.08251879],\n",
       "        [ 0.19447875, -0.07003546,  0.00796626, ...,  0.00557866,\n",
       "          0.14946866, -0.19871649],\n",
       "        [ 0.09033904, -0.20396017, -0.09517197, ...,  0.04954558,\n",
       "          0.14924657,  0.19912258],\n",
       "        ...,\n",
       "        [-0.01115574, -0.02165586, -0.03397696, ..., -0.00228392,\n",
       "         -0.12948038, -0.0279966 ],\n",
       "        [ 0.01675699, -0.07159325,  0.06368932, ...,  0.08141776,\n",
       "         -0.19673045, -0.09053191],\n",
       "        [-0.0322795 ,  0.04458018,  0.11175792, ..., -0.00911894,\n",
       "          0.2592532 , -0.01216797]], dtype=float32),\n",
       " array([-0.01538255,  0.02044922, -0.01872765,  0.0245494 ,  0.01043771,\n",
       "        -0.02234892, -0.02015472, -0.00476082, -0.03799144, -0.01640467,\n",
       "        -0.01601931,  0.01389527, -0.00643813, -0.01564477, -0.02112539,\n",
       "        -0.02282821,  0.01985494,  0.02653184,  0.02812165, -0.02901895,\n",
       "         0.02635672, -0.01386218,  0.00786147, -0.0223125 ,  0.00442829,\n",
       "         0.00986058, -0.01322764, -0.02175127, -0.00887625, -0.02070818,\n",
       "        -0.0230283 ,  0.01306564, -0.01555987, -0.00948359,  0.02088917,\n",
       "         0.02821172, -0.01309515,  0.02077828,  0.01967644, -0.02234952,\n",
       "         0.00914492, -0.02293583, -0.02241979,  0.00435827, -0.00975537,\n",
       "        -0.00738558, -0.00247948,  0.02129347, -0.01663985, -0.02188116,\n",
       "        -0.01540955, -0.02484354,  0.00301273, -0.01413273,  0.01355811,\n",
       "         0.00251169, -0.01678812,  0.00253565,  0.01582126, -0.02357344,\n",
       "        -0.01339345, -0.00887657, -0.02456892, -0.02055998,  0.0153544 ,\n",
       "         0.02434224, -0.01748039,  0.00475691, -0.01455016, -0.0125389 ,\n",
       "        -0.0295109 ,  0.01005893,  0.00834738, -0.02374291, -0.02133555,\n",
       "         0.01045075, -0.00115711, -0.02407589, -0.02054631, -0.05609052,\n",
       "        -0.02390759,  0.00131609,  0.02041211, -0.02684789,  0.03151236,\n",
       "        -0.01688324,  0.01775557, -0.01210751, -0.01563377, -0.01683749,\n",
       "         0.01072811, -0.00902403, -0.02657542, -0.01334499,  0.00691793,\n",
       "        -0.00689061, -0.02017229, -0.01807033, -0.01279454, -0.02728945,\n",
       "        -0.02015706,  0.01456091, -0.01296348,  0.00845619, -0.00966344,\n",
       "         0.03978266, -0.0120958 , -0.01797139,  0.02577094, -0.01442047,\n",
       "         0.00949557, -0.02223115,  0.00968075, -0.00078367, -0.01838593,\n",
       "        -0.02342342,  0.02245137,  0.00846644, -0.02243433, -0.00844898,\n",
       "         0.00079966, -0.02497286, -0.00748512,  0.01010486, -0.02903908,\n",
       "        -0.00379066, -0.01487188,  0.01874991], dtype=float32),\n",
       " array([[ 1.47641480e-01],\n",
       "        [-1.78625777e-01],\n",
       "        [ 8.77927393e-02],\n",
       "        [ 2.51898021e-01],\n",
       "        [-2.20758170e-01],\n",
       "        [ 8.71454403e-02],\n",
       "        [-2.14431938e-02],\n",
       "        [ 2.52767932e-02],\n",
       "        [-6.28863394e-01],\n",
       "        [-6.64880425e-02],\n",
       "        [-4.25729342e-02],\n",
       "        [-8.53869393e-02],\n",
       "        [ 2.05036640e-01],\n",
       "        [-1.52803421e-01],\n",
       "        [-9.92075875e-02],\n",
       "        [-1.43943265e-01],\n",
       "        [-4.08597365e-02],\n",
       "        [ 8.77010375e-02],\n",
       "        [-3.09461027e-01],\n",
       "        [-7.60639459e-02],\n",
       "        [-3.33978571e-02],\n",
       "        [-2.78030574e-01],\n",
       "        [-1.16723195e-01],\n",
       "        [ 1.47699952e-01],\n",
       "        [-5.50786033e-02],\n",
       "        [ 1.93444788e-01],\n",
       "        [-6.06380366e-02],\n",
       "        [ 1.92131877e-01],\n",
       "        [ 1.25548229e-01],\n",
       "        [-6.66587576e-02],\n",
       "        [ 2.18296483e-01],\n",
       "        [ 3.14652592e-01],\n",
       "        [-1.71686098e-01],\n",
       "        [-5.65365776e-02],\n",
       "        [ 9.60874930e-02],\n",
       "        [ 1.97126091e-01],\n",
       "        [-1.66992083e-01],\n",
       "        [ 5.32643758e-02],\n",
       "        [-7.91555084e-03],\n",
       "        [ 1.60612062e-01],\n",
       "        [-7.26237223e-02],\n",
       "        [-9.69628468e-02],\n",
       "        [-1.50076404e-01],\n",
       "        [-1.36888355e-01],\n",
       "        [ 1.67071953e-01],\n",
       "        [ 1.98152661e-01],\n",
       "        [ 1.11786596e-01],\n",
       "        [-1.66047305e-01],\n",
       "        [ 1.11689344e-01],\n",
       "        [-1.18054271e-01],\n",
       "        [ 1.77039310e-01],\n",
       "        [-6.57636151e-02],\n",
       "        [ 8.94176215e-02],\n",
       "        [-2.66501486e-01],\n",
       "        [ 6.90362006e-02],\n",
       "        [ 1.31360784e-01],\n",
       "        [ 7.41992518e-02],\n",
       "        [ 3.62164117e-02],\n",
       "        [-3.31344306e-01],\n",
       "        [-7.53347650e-02],\n",
       "        [ 7.82992095e-02],\n",
       "        [ 1.85504392e-01],\n",
       "        [-1.65883183e-01],\n",
       "        [-1.79359183e-01],\n",
       "        [ 1.37685806e-01],\n",
       "        [ 8.02231431e-02],\n",
       "        [ 2.39448026e-02],\n",
       "        [-6.91911280e-02],\n",
       "        [-1.47804990e-01],\n",
       "        [ 1.23852052e-01],\n",
       "        [ 5.94787896e-01],\n",
       "        [-5.99893928e-01],\n",
       "        [-1.26135424e-01],\n",
       "        [-4.05544303e-02],\n",
       "        [-6.98168203e-02],\n",
       "        [-9.59761813e-02],\n",
       "        [-1.03613988e-01],\n",
       "        [ 1.23867348e-01],\n",
       "        [ 2.25963905e-01],\n",
       "        [-5.39525487e-02],\n",
       "        [-1.85318559e-01],\n",
       "        [-1.98362380e-01],\n",
       "        [ 2.22767904e-01],\n",
       "        [-9.45093706e-02],\n",
       "        [ 3.96511585e-01],\n",
       "        [-8.69365176e-04],\n",
       "        [-8.17767065e-03],\n",
       "        [ 2.65516322e-02],\n",
       "        [-2.45346129e-01],\n",
       "        [-8.85286257e-02],\n",
       "        [ 5.82080381e-03],\n",
       "        [ 3.52209546e-02],\n",
       "        [ 9.41147953e-02],\n",
       "        [-1.80714130e-01],\n",
       "        [-2.49222249e-01],\n",
       "        [-1.02627486e-01],\n",
       "        [ 2.03555394e-02],\n",
       "        [-5.31120479e-01],\n",
       "        [-6.50405228e-01],\n",
       "        [-1.87947661e-01],\n",
       "        [ 2.14580297e-01],\n",
       "        [-5.67699503e-03],\n",
       "        [ 1.39498079e+00],\n",
       "        [ 8.34376141e-02],\n",
       "        [ 3.34527194e-02],\n",
       "        [ 6.65178895e-02],\n",
       "        [-1.24179684e-01],\n",
       "        [-1.28691480e-01],\n",
       "        [ 1.56053165e-02],\n",
       "        [-1.07822634e-01],\n",
       "        [-1.54500648e-01],\n",
       "        [-6.58786237e-01],\n",
       "        [-2.89358407e-01],\n",
       "        [-1.05187260e-01],\n",
       "        [ 1.24802075e-01],\n",
       "        [-2.35508218e-01],\n",
       "        [ 7.66573921e-02],\n",
       "        [-2.39851270e-02],\n",
       "        [-3.70860606e-01],\n",
       "        [ 2.03923166e-01],\n",
       "        [-1.36554450e-01],\n",
       "        [ 2.09986046e-01],\n",
       "        [ 4.84354496e-02],\n",
       "        [ 2.23247871e-01],\n",
       "        [-5.62915429e-02],\n",
       "        [ 3.96718770e-01],\n",
       "        [ 2.47237325e-01],\n",
       "        [ 1.51554704e-01]], dtype=float32),\n",
       " array([0.7835147], dtype=float32)]"
      ]
     },
     "execution_count": 4,
     "metadata": {},
     "output_type": "execute_result"
    }
   ],
   "source": [
    "model.get_weights()"
   ]
  },
  {
   "cell_type": "code",
   "execution_count": 5,
   "metadata": {},
   "outputs": [],
   "source": [
    "# Step 2: Helper Functions\n",
    "# Function to decode reviews\n",
    "def decode_review(encoded_review):\n",
    "    return ' '.join([reverse_word_index.get(i - 3, '?') for i in encoded_review])\n",
    "\n",
    "# Function to preprocess user input\n",
    "def preprocess_text(text):\n",
    "    words = text.lower().split()\n",
    "    encoded_review = [word_index.get(word, 2) + 3 for word in words]\n",
    "    padded_review = sequence.pad_sequences([encoded_review], maxlen=500)\n",
    "    return padded_review"
   ]
  },
  {
   "cell_type": "code",
   "execution_count": 6,
   "metadata": {},
   "outputs": [],
   "source": [
    "### Prediction  function\n",
    "\n",
    "def predict_sentiment(review):\n",
    "    preprocessed_input=preprocess_text(review)\n",
    "\n",
    "    prediction=model.predict(preprocessed_input)\n",
    "\n",
    "    sentiment = 'Positive' if prediction[0][0] > 0.5 else 'Negative'\n",
    "    \n",
    "    return sentiment, prediction[0][0]\n",
    "\n"
   ]
  },
  {
   "cell_type": "code",
   "execution_count": 7,
   "metadata": {},
   "outputs": [
    {
     "name": "stdout",
     "output_type": "stream",
     "text": [
      "\u001b[1m1/1\u001b[0m \u001b[32m━━━━━━━━━━━━━━━━━━━━\u001b[0m\u001b[37m\u001b[0m \u001b[1m0s\u001b[0m 207ms/step\n",
      "Review: This movie was fantastic! The acting was great and the plot was thrilling.\n",
      "Sentiment: Positive\n",
      "Prediction Score: 0.9608131647109985\n"
     ]
    }
   ],
   "source": [
    "# Step 4: User Input and Prediction\n",
    "# Example review for prediction\n",
    "example_review = \"This movie was fantastic! The acting was great and the plot was thrilling.\"\n",
    "\n",
    "sentiment,score=predict_sentiment(example_review)\n",
    "\n",
    "print(f'Review: {example_review}')\n",
    "print(f'Sentiment: {sentiment}')\n",
    "print(f'Prediction Score: {score}')"
   ]
  },
  {
   "cell_type": "code",
   "execution_count": null,
   "metadata": {},
   "outputs": [],
   "source": []
  },
  {
   "cell_type": "code",
   "execution_count": null,
   "metadata": {},
   "outputs": [],
   "source": []
  },
  {
   "cell_type": "code",
   "execution_count": null,
   "metadata": {},
   "outputs": [],
   "source": []
  },
  {
   "cell_type": "code",
   "execution_count": null,
   "metadata": {},
   "outputs": [],
   "source": []
  }
 ],
 "metadata": {
  "kernelspec": {
   "display_name": "Python 3",
   "language": "python",
   "name": "python3"
  },
  "language_info": {
   "codemirror_mode": {
    "name": "ipython",
    "version": 3
   },
   "file_extension": ".py",
   "mimetype": "text/x-python",
   "name": "python",
   "nbconvert_exporter": "python",
   "pygments_lexer": "ipython3",
   "version": "3.11.0"
  }
 },
 "nbformat": 4,
 "nbformat_minor": 2
}
